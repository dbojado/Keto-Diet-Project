{
 "cells": [
  {
   "cell_type": "markdown",
   "metadata": {},
   "source": [
    "# The Keto Diet Project: Minimally Viable Product (MVP)"
   ]
  },
  {
   "cell_type": "markdown",
   "metadata": {},
   "source": [
    "## Goal:\n",
    "- Can we predict if a food is \"Keto Friendly\" based solely on it's macro percentages from a nutritional facts database?"
   ]
  },
  {
   "cell_type": "markdown",
   "metadata": {},
   "source": [
    "## What is Keto?\n",
    "- A Ketogenic Diet primarily consists of high-fats, moderate-proteins, and very-low-carbohydrates.     \n",
    "\n",
    "\n",
    "- Ketosis is a metabolic state characterized by elevated levels of ketone bodies in the blood or urine.     \n",
    "\n",
    "\n",
    "- Being in ketosis can help you burn fat, feel less hungry, and allow you to keep muscle.       \n",
    "\n",
    "\n",
    "- For healthy people who don't have diabetes and aren't pregnant, ketosis usually kicks in after 3 or 4 days of eating fewer than 50 grams of carbohydrates per day. However, you typically have to have under 25 grams of carbs a day to in considered in a true state of ketosis.           \n",
    " \n",
    "\n",
    "- Ketosis is also tricky because not consuming enough fat or consuming too much protein will prevent you from getting into ketosis. "
   ]
  },
  {
   "cell_type": "markdown",
   "metadata": {},
   "source": [
    "### Known Keto-Friendly Foods/Drinks: \n",
    "        Fat/Protein/Carbs  \n",
    "- Meat (1 serving of top sirloin steak)  \n",
    "        13/22/0\n",
    "- Fish and seafood (6 ounces of baked halibut)  \n",
    "        7.6/38/0\n",
    "- Eggs (2 large eggs) \n",
    "        8/12/0\n",
    "- Natural fat/high-fat sauces (2 tablespoons for basil pesto sauce)   \n",
    "        12.6/1.8/2.5\n",
    "- Vegetables that grow above ground (1 cup cauliflower)\n",
    "        4.3/2.3/5.2\n",
    "- High-fat dairy (1 cup of whole milk)\n",
    "        7.9/7.7/11.7\n",
    "- Nuts (1 ounce mixed)\n",
    "        15/6/6\n",
    "- Berries (1 cup of blackberries)\n",
    "        1/2/20\n",
    "\n",
    "### Foods to Avoid on Keto:\n",
    "        Fat/Protein/Carbs \n",
    "- Fruit (1 banana)\n",
    "        0.4/1.3/27\n",
    "- Potatoes (1 baked potato)\n",
    "        0.3/3.6/36.5\n",
    "- Pasta (1 cup)\n",
    "        1.3/8.1/43.2\n",
    "- Rice (1 cup)\n",
    "        0.4/4.4/53.2\n",
    "- Beer (12 ounces)\n",
    "        0/1.6/12.6\t\n",
    "- Bread (2 slices)\n",
    "        2/4/28\t\n",
    "- Sodas (1 can of Coke)\n",
    "        0/0/65\t\n",
    "- Candy (M&M’s 10 pieces)\n",
    "        1.5/0.3/5.1 \n",
    "        \n",
    "        \n",
    "                                *** Info taken from \"Lose It!\" app ***"
   ]
  },
  {
   "cell_type": "markdown",
   "metadata": {},
   "source": [
    "### According to https://www.nateliason.com/blog/easy-keto, the typical macro ratio for keto looks like the following (specifically for a 2,000 kcal per day diet): \n",
    "\n",
    "- <b>Fat:</b> 70% of total calories (156 g per day)\n",
    "- <b>Protein:</b> 25% of total calories (125 g per day)\n",
    "- <b>Carbs:</b> 5% of total calories (25 g per day) "
   ]
  },
  {
   "cell_type": "markdown",
   "metadata": {},
   "source": [
    "### Assuming you eat 3 meals a day, you should be consuming the following macros per meal:\n",
    "- <b>Fat:</b> 52 g per meal\n",
    "- <b>Protein:</b> 41.7 g per meal\n",
    "- <b>Carbs:</b> 8.3 g per meal"
   ]
  },
  {
   "cell_type": "markdown",
   "metadata": {},
   "source": [
    "## Imports"
   ]
  },
  {
   "cell_type": "code",
   "execution_count": 1,
   "metadata": {},
   "outputs": [],
   "source": [
    "# General Imports \n",
    "import pandas as pd\n",
    "import numpy as np\n",
    "import matplotlib.pyplot as plt\n",
    "import seaborn as sns\n",
    "from scipy import stats\n",
    "%matplotlib inline\n",
    "\n",
    "# Train Validate Test\n",
    "from sklearn.model_selection import train_test_split\n",
    "\n",
    "# Modeling Imports\n",
    "from sklearn.linear_model import LogisticRegression\n",
    "from sklearn.tree import DecisionTreeClassifier\n",
    "from sklearn.ensemble import RandomForestClassifier\n",
    "from sklearn.neighbors import KNeighborsClassifier\n",
    "\n",
    "# Additional Sklearn Imports \n",
    "from sklearn.metrics import classification_report, accuracy_score\n",
    "from sklearn.metrics import classification_report, confusion_matrix\n",
    "from sklearn.tree import export_graphviz\n",
    "from sklearn.metrics import f1_score\n",
    "\n",
    "# Acquire and Prepare Files\n",
    "import acquire \n",
    "import prepare\n",
    "\n",
    "# Warnings \n",
    "import warnings\n",
    "warnings.filterwarnings(\"ignore\")"
   ]
  },
  {
   "cell_type": "markdown",
   "metadata": {},
   "source": [
    "## Acquire"
   ]
  },
  {
   "cell_type": "markdown",
   "metadata": {},
   "source": [
    "- Acquire data"
   ]
  },
  {
   "cell_type": "code",
   "execution_count": 2,
   "metadata": {},
   "outputs": [
    {
     "data": {
      "text/html": [
       "<div>\n",
       "<style scoped>\n",
       "    .dataframe tbody tr th:only-of-type {\n",
       "        vertical-align: middle;\n",
       "    }\n",
       "\n",
       "    .dataframe tbody tr th {\n",
       "        vertical-align: top;\n",
       "    }\n",
       "\n",
       "    .dataframe thead th {\n",
       "        text-align: right;\n",
       "    }\n",
       "</style>\n",
       "<table border=\"1\" class=\"dataframe\">\n",
       "  <thead>\n",
       "    <tr style=\"text-align: right;\">\n",
       "      <th></th>\n",
       "      <th>number</th>\n",
       "      <th>food_item</th>\n",
       "      <th>serving_size</th>\n",
       "      <th>calories</th>\n",
       "      <th>total_fat</th>\n",
       "      <th>saturated_fat</th>\n",
       "      <th>cholesterol</th>\n",
       "      <th>sodium</th>\n",
       "      <th>choline</th>\n",
       "      <th>folate</th>\n",
       "      <th>...</th>\n",
       "      <th>fat</th>\n",
       "      <th>saturated_fatty_acids</th>\n",
       "      <th>monounsaturated_fatty_acids</th>\n",
       "      <th>polyunsaturated_fatty_acids</th>\n",
       "      <th>fatty_acids_total_trans</th>\n",
       "      <th>alcohol</th>\n",
       "      <th>ash</th>\n",
       "      <th>caffeine</th>\n",
       "      <th>theobromine</th>\n",
       "      <th>water</th>\n",
       "    </tr>\n",
       "  </thead>\n",
       "  <tbody>\n",
       "    <tr>\n",
       "      <th>0</th>\n",
       "      <td>0</td>\n",
       "      <td>Cornstarch</td>\n",
       "      <td>100 g</td>\n",
       "      <td>381</td>\n",
       "      <td>0.1</td>\n",
       "      <td>NaN</td>\n",
       "      <td>0</td>\n",
       "      <td>9.00 mg</td>\n",
       "      <td>0.4 mg</td>\n",
       "      <td>0.00 mcg</td>\n",
       "      <td>...</td>\n",
       "      <td>0.05 g</td>\n",
       "      <td>0.009 g</td>\n",
       "      <td>0.016 g</td>\n",
       "      <td>0.025 g</td>\n",
       "      <td>0.00 mg</td>\n",
       "      <td>0.0 g</td>\n",
       "      <td>0.09 g</td>\n",
       "      <td>0.00 mg</td>\n",
       "      <td>0.00 mg</td>\n",
       "      <td>8.32 g</td>\n",
       "    </tr>\n",
       "    <tr>\n",
       "      <th>1</th>\n",
       "      <td>1</td>\n",
       "      <td>Nuts, pecans</td>\n",
       "      <td>100 g</td>\n",
       "      <td>691</td>\n",
       "      <td>72.0</td>\n",
       "      <td>6.2g</td>\n",
       "      <td>0</td>\n",
       "      <td>0.00 mg</td>\n",
       "      <td>40.5 mg</td>\n",
       "      <td>22.00 mcg</td>\n",
       "      <td>...</td>\n",
       "      <td>71.97 g</td>\n",
       "      <td>6.180 g</td>\n",
       "      <td>40.801 g</td>\n",
       "      <td>21.614 g</td>\n",
       "      <td>0.00 mg</td>\n",
       "      <td>0.0 g</td>\n",
       "      <td>1.49 g</td>\n",
       "      <td>0.00 mg</td>\n",
       "      <td>0.00 mg</td>\n",
       "      <td>3.52 g</td>\n",
       "    </tr>\n",
       "    <tr>\n",
       "      <th>2</th>\n",
       "      <td>2</td>\n",
       "      <td>Eggplant, raw</td>\n",
       "      <td>100 g</td>\n",
       "      <td>25</td>\n",
       "      <td>0.2</td>\n",
       "      <td>NaN</td>\n",
       "      <td>0</td>\n",
       "      <td>2.00 mg</td>\n",
       "      <td>6.9 mg</td>\n",
       "      <td>22.00 mcg</td>\n",
       "      <td>...</td>\n",
       "      <td>0.18 g</td>\n",
       "      <td>0.034 g</td>\n",
       "      <td>0.016 g</td>\n",
       "      <td>0.076 g</td>\n",
       "      <td>0.00 mg</td>\n",
       "      <td>0.0 g</td>\n",
       "      <td>0.66 g</td>\n",
       "      <td>0.00 mg</td>\n",
       "      <td>0.00 mg</td>\n",
       "      <td>92.30 g</td>\n",
       "    </tr>\n",
       "    <tr>\n",
       "      <th>3</th>\n",
       "      <td>3</td>\n",
       "      <td>Teff, uncooked</td>\n",
       "      <td>100 g</td>\n",
       "      <td>367</td>\n",
       "      <td>2.4</td>\n",
       "      <td>0.4g</td>\n",
       "      <td>0</td>\n",
       "      <td>12.00 mg</td>\n",
       "      <td>13.1 mg</td>\n",
       "      <td>0</td>\n",
       "      <td>...</td>\n",
       "      <td>2.38 g</td>\n",
       "      <td>0.449 g</td>\n",
       "      <td>0.589 g</td>\n",
       "      <td>1.071 g</td>\n",
       "      <td>0</td>\n",
       "      <td>0</td>\n",
       "      <td>2.37 g</td>\n",
       "      <td>0</td>\n",
       "      <td>0</td>\n",
       "      <td>8.82 g</td>\n",
       "    </tr>\n",
       "    <tr>\n",
       "      <th>4</th>\n",
       "      <td>4</td>\n",
       "      <td>Sherbet, orange</td>\n",
       "      <td>100 g</td>\n",
       "      <td>144</td>\n",
       "      <td>2.0</td>\n",
       "      <td>1.2g</td>\n",
       "      <td>1mg</td>\n",
       "      <td>46.00 mg</td>\n",
       "      <td>7.7 mg</td>\n",
       "      <td>4.00 mcg</td>\n",
       "      <td>...</td>\n",
       "      <td>2.00 g</td>\n",
       "      <td>1.160 g</td>\n",
       "      <td>0.530 g</td>\n",
       "      <td>0.080 g</td>\n",
       "      <td>1.00 mg</td>\n",
       "      <td>0.0 g</td>\n",
       "      <td>0.40 g</td>\n",
       "      <td>0.00 mg</td>\n",
       "      <td>0.00 mg</td>\n",
       "      <td>66.10 g</td>\n",
       "    </tr>\n",
       "  </tbody>\n",
       "</table>\n",
       "<p>5 rows × 77 columns</p>\n",
       "</div>"
      ],
      "text/plain": [
       "   number        food_item serving_size  calories  total_fat saturated_fat  \\\n",
       "0       0       Cornstarch        100 g       381        0.1           NaN   \n",
       "1       1     Nuts, pecans        100 g       691       72.0          6.2g   \n",
       "2       2    Eggplant, raw        100 g        25        0.2           NaN   \n",
       "3       3   Teff, uncooked        100 g       367        2.4          0.4g   \n",
       "4       4  Sherbet, orange        100 g       144        2.0          1.2g   \n",
       "\n",
       "  cholesterol    sodium  choline     folate  ...      fat  \\\n",
       "0           0   9.00 mg   0.4 mg   0.00 mcg  ...   0.05 g   \n",
       "1           0   0.00 mg  40.5 mg  22.00 mcg  ...  71.97 g   \n",
       "2           0   2.00 mg   6.9 mg  22.00 mcg  ...   0.18 g   \n",
       "3           0  12.00 mg  13.1 mg          0  ...   2.38 g   \n",
       "4         1mg  46.00 mg   7.7 mg   4.00 mcg  ...   2.00 g   \n",
       "\n",
       "  saturated_fatty_acids monounsaturated_fatty_acids  \\\n",
       "0               0.009 g                     0.016 g   \n",
       "1               6.180 g                    40.801 g   \n",
       "2               0.034 g                     0.016 g   \n",
       "3               0.449 g                     0.589 g   \n",
       "4               1.160 g                     0.530 g   \n",
       "\n",
       "  polyunsaturated_fatty_acids fatty_acids_total_trans alcohol     ash  \\\n",
       "0                     0.025 g                 0.00 mg   0.0 g  0.09 g   \n",
       "1                    21.614 g                 0.00 mg   0.0 g  1.49 g   \n",
       "2                     0.076 g                 0.00 mg   0.0 g  0.66 g   \n",
       "3                     1.071 g                       0       0  2.37 g   \n",
       "4                     0.080 g                 1.00 mg   0.0 g  0.40 g   \n",
       "\n",
       "  caffeine theobromine    water  \n",
       "0  0.00 mg     0.00 mg   8.32 g  \n",
       "1  0.00 mg     0.00 mg   3.52 g  \n",
       "2  0.00 mg     0.00 mg  92.30 g  \n",
       "3        0           0   8.82 g  \n",
       "4  0.00 mg     0.00 mg  66.10 g  \n",
       "\n",
       "[5 rows x 77 columns]"
      ]
     },
     "execution_count": 2,
     "metadata": {},
     "output_type": "execute_result"
    }
   ],
   "source": [
    "# Acquired data\n",
    "df = pd.read_csv(\"nutrition.csv\")\n",
    "df.head()"
   ]
  },
  {
   "cell_type": "code",
   "execution_count": 3,
   "metadata": {},
   "outputs": [
    {
     "data": {
      "text/plain": [
       "(8789, 77)"
      ]
     },
     "execution_count": 3,
     "metadata": {},
     "output_type": "execute_result"
    }
   ],
   "source": [
    "# Total dataframe shape (8.7k different food items)\n",
    "df.shape"
   ]
  },
  {
   "cell_type": "code",
   "execution_count": 4,
   "metadata": {},
   "outputs": [
    {
     "name": "stdout",
     "output_type": "stream",
     "text": [
      "<class 'pandas.core.frame.DataFrame'>\n",
      "RangeIndex: 8789 entries, 0 to 8788\n",
      "Data columns (total 77 columns):\n",
      " #   Column                       Non-Null Count  Dtype  \n",
      "---  ------                       --------------  -----  \n",
      " 0   number                       8789 non-null   int64  \n",
      " 1   food_item                    8789 non-null   object \n",
      " 2   serving_size                 8789 non-null   object \n",
      " 3   calories                     8789 non-null   int64  \n",
      " 4   total_fat                    8789 non-null   float64\n",
      " 5   saturated_fat                7199 non-null   object \n",
      " 6   cholesterol                  8789 non-null   object \n",
      " 7   sodium                       8789 non-null   object \n",
      " 8   choline                      8789 non-null   object \n",
      " 9   folate                       8789 non-null   object \n",
      " 10  folic_acid                   8789 non-null   object \n",
      " 11  niacin                       8789 non-null   object \n",
      " 12  pantothenic_acid             8789 non-null   object \n",
      " 13  riboflavin                   8789 non-null   object \n",
      " 14  thiamin                      8789 non-null   object \n",
      " 15  vitamin_a                    8789 non-null   object \n",
      " 16  vitamin_a_rae                8789 non-null   object \n",
      " 17  carotene_alpha               8789 non-null   object \n",
      " 18  carotene_beta                8789 non-null   object \n",
      " 19  cryptoxanthin_beta           8789 non-null   object \n",
      " 20  lutein_zeaxanthin            8789 non-null   object \n",
      " 21  lucopene                     8789 non-null   int64  \n",
      " 22  vitamin_b12                  8789 non-null   object \n",
      " 23  vitamin_b6                   8789 non-null   object \n",
      " 24  vitamin_c                    8789 non-null   object \n",
      " 25  vitamin_d                    8789 non-null   object \n",
      " 26  vitamin_e                    8789 non-null   object \n",
      " 27  tocopherol_alpha             8789 non-null   object \n",
      " 28  vitamin_k                    8789 non-null   object \n",
      " 29  calcium                      8789 non-null   object \n",
      " 30  copper                       8789 non-null   object \n",
      " 31  iron                         8789 non-null   object \n",
      " 32  magnesium                    8789 non-null   object \n",
      " 33  manganese                    8789 non-null   object \n",
      " 34  phosphorous                  8789 non-null   object \n",
      " 35  potassium                    8789 non-null   object \n",
      " 36  selenium                     8789 non-null   object \n",
      " 37  zinc                         8789 non-null   object \n",
      " 38  protein                      8789 non-null   float64\n",
      " 39  alanine                      8789 non-null   object \n",
      " 40  arginine                     8789 non-null   object \n",
      " 41  aspartic_acid                8789 non-null   object \n",
      " 42  cystine                      8789 non-null   object \n",
      " 43  glutamic_acid                8789 non-null   object \n",
      " 44  glycine                      8789 non-null   object \n",
      " 45  histidine                    8789 non-null   object \n",
      " 46  hydroxyproline               8789 non-null   object \n",
      " 47  isoleucine                   8789 non-null   object \n",
      " 48  leucine                      8789 non-null   object \n",
      " 49  lysine                       8789 non-null   object \n",
      " 50  methionine                   8789 non-null   object \n",
      " 51  phenylalanine                8789 non-null   object \n",
      " 52  proline                      8789 non-null   object \n",
      " 53  serine                       8789 non-null   object \n",
      " 54  threonine                    8789 non-null   object \n",
      " 55  tryptophan                   8789 non-null   object \n",
      " 56  tyrosine                     8789 non-null   object \n",
      " 57  valine                       8789 non-null   object \n",
      " 58  carbohydrate                 8789 non-null   float64\n",
      " 59  fiber                        8789 non-null   object \n",
      " 60  sugars                       8789 non-null   object \n",
      " 61  fructose                     8789 non-null   object \n",
      " 62  galactose                    8789 non-null   object \n",
      " 63  glucose                      8789 non-null   object \n",
      " 64  lactose                      8789 non-null   object \n",
      " 65  maltose                      8789 non-null   object \n",
      " 66  sucrose                      8789 non-null   object \n",
      " 67  fat                          8789 non-null   object \n",
      " 68  saturated_fatty_acids        8789 non-null   object \n",
      " 69  monounsaturated_fatty_acids  8789 non-null   object \n",
      " 70  polyunsaturated_fatty_acids  8789 non-null   object \n",
      " 71  fatty_acids_total_trans      8789 non-null   object \n",
      " 72  alcohol                      8789 non-null   object \n",
      " 73  ash                          8789 non-null   object \n",
      " 74  caffeine                     8789 non-null   object \n",
      " 75  theobromine                  8789 non-null   object \n",
      " 76  water                        8789 non-null   object \n",
      "dtypes: float64(3), int64(3), object(71)\n",
      "memory usage: 5.2+ MB\n"
     ]
    }
   ],
   "source": [
    "# Nutrition data info \n",
    "df.info()"
   ]
  },
  {
   "cell_type": "code",
   "execution_count": 5,
   "metadata": {},
   "outputs": [],
   "source": [
    "# Write a function to add to acquire.py file"
   ]
  },
  {
   "cell_type": "markdown",
   "metadata": {},
   "source": [
    "## Prepare"
   ]
  },
  {
   "cell_type": "markdown",
   "metadata": {},
   "source": [
    "- Prepare and clean data"
   ]
  },
  {
   "cell_type": "code",
   "execution_count": 6,
   "metadata": {},
   "outputs": [
    {
     "name": "stdout",
     "output_type": "stream",
     "text": [
      "number          0\n",
      "food_item       0\n",
      "serving_size    0\n",
      "calories        0\n",
      "total_fat       0\n",
      "               ..\n",
      "alcohol         0\n",
      "ash             0\n",
      "caffeine        0\n",
      "theobromine     0\n",
      "water           0\n",
      "Length: 77, dtype: int64\n"
     ]
    }
   ],
   "source": [
    "# Check for missing/null values \n",
    "print(df.isnull().sum())"
   ]
  },
  {
   "cell_type": "code",
   "execution_count": 7,
   "metadata": {},
   "outputs": [],
   "source": [
    "# Dropping columns "
   ]
  },
  {
   "cell_type": "code",
   "execution_count": 8,
   "metadata": {},
   "outputs": [
    {
     "data": {
      "text/html": [
       "<div>\n",
       "<style scoped>\n",
       "    .dataframe tbody tr th:only-of-type {\n",
       "        vertical-align: middle;\n",
       "    }\n",
       "\n",
       "    .dataframe tbody tr th {\n",
       "        vertical-align: top;\n",
       "    }\n",
       "\n",
       "    .dataframe thead th {\n",
       "        text-align: right;\n",
       "    }\n",
       "</style>\n",
       "<table border=\"1\" class=\"dataframe\">\n",
       "  <thead>\n",
       "    <tr style=\"text-align: right;\">\n",
       "      <th></th>\n",
       "      <th>food_item</th>\n",
       "      <th>serving_size</th>\n",
       "      <th>calories</th>\n",
       "      <th>total_fat</th>\n",
       "      <th>protein</th>\n",
       "      <th>carbohydrate</th>\n",
       "    </tr>\n",
       "  </thead>\n",
       "  <tbody>\n",
       "    <tr>\n",
       "      <th>0</th>\n",
       "      <td>Cornstarch</td>\n",
       "      <td>100 g</td>\n",
       "      <td>381</td>\n",
       "      <td>0.1</td>\n",
       "      <td>0.26</td>\n",
       "      <td>91.27</td>\n",
       "    </tr>\n",
       "    <tr>\n",
       "      <th>1</th>\n",
       "      <td>Nuts, pecans</td>\n",
       "      <td>100 g</td>\n",
       "      <td>691</td>\n",
       "      <td>72.0</td>\n",
       "      <td>9.17</td>\n",
       "      <td>13.86</td>\n",
       "    </tr>\n",
       "    <tr>\n",
       "      <th>2</th>\n",
       "      <td>Eggplant, raw</td>\n",
       "      <td>100 g</td>\n",
       "      <td>25</td>\n",
       "      <td>0.2</td>\n",
       "      <td>0.98</td>\n",
       "      <td>5.88</td>\n",
       "    </tr>\n",
       "    <tr>\n",
       "      <th>3</th>\n",
       "      <td>Teff, uncooked</td>\n",
       "      <td>100 g</td>\n",
       "      <td>367</td>\n",
       "      <td>2.4</td>\n",
       "      <td>13.30</td>\n",
       "      <td>73.13</td>\n",
       "    </tr>\n",
       "    <tr>\n",
       "      <th>4</th>\n",
       "      <td>Sherbet, orange</td>\n",
       "      <td>100 g</td>\n",
       "      <td>144</td>\n",
       "      <td>2.0</td>\n",
       "      <td>1.10</td>\n",
       "      <td>30.40</td>\n",
       "    </tr>\n",
       "  </tbody>\n",
       "</table>\n",
       "</div>"
      ],
      "text/plain": [
       "         food_item serving_size  calories  total_fat  protein  carbohydrate\n",
       "0       Cornstarch        100 g       381        0.1     0.26         91.27\n",
       "1     Nuts, pecans        100 g       691       72.0     9.17         13.86\n",
       "2    Eggplant, raw        100 g        25        0.2     0.98          5.88\n",
       "3   Teff, uncooked        100 g       367        2.4    13.30         73.13\n",
       "4  Sherbet, orange        100 g       144        2.0     1.10         30.40"
      ]
     },
     "execution_count": 8,
     "metadata": {},
     "output_type": "execute_result"
    }
   ],
   "source": [
    "df = df.drop(['number', 'saturated_fat','cholesterol','sodium','choline','folate','folic_acid','niacin','pantothenic_acid',\n",
    "         'riboflavin','thiamin','vitamin_a','vitamin_a_rae','carotene_alpha','carotene_beta','cryptoxanthin_beta',\n",
    "         'lutein_zeaxanthin','lucopene','vitamin_b12','vitamin_b6','vitamin_c','vitamin_d','vitamin_e','tocopherol_alpha',\n",
    "        'vitamin_k','calcium','copper', 'iron','magnesium','manganese','phosphorous','potassium','selenium','zinc',\n",
    "        'alanine','arginine','aspartic_acid','cystine','glutamic_acid','glycine','histidine','hydroxyproline','isoleucine',\n",
    "        'leucine','lysine','methionine','phenylalanine','proline','serine','threonine','tryptophan','tyrosine','valine',\n",
    "        'fiber', 'sugars','fructose','galactose','glucose','lactose','maltose','sucrose','fat','saturated_fatty_acids',\n",
    "        'monounsaturated_fatty_acids','polyunsaturated_fatty_acids','fatty_acids_total_trans','alcohol','ash','caffeine',\n",
    "        'theobromine','water'], axis = 1)\n",
    "df.head()"
   ]
  },
  {
   "cell_type": "code",
   "execution_count": 9,
   "metadata": {},
   "outputs": [],
   "source": [
    "# Want to note here that total_fat, protein, and carbohydrates are all in grams"
   ]
  },
  {
   "cell_type": "code",
   "execution_count": 10,
   "metadata": {},
   "outputs": [
    {
     "data": {
      "text/html": [
       "<div>\n",
       "<style scoped>\n",
       "    .dataframe tbody tr th:only-of-type {\n",
       "        vertical-align: middle;\n",
       "    }\n",
       "\n",
       "    .dataframe tbody tr th {\n",
       "        vertical-align: top;\n",
       "    }\n",
       "\n",
       "    .dataframe thead th {\n",
       "        text-align: right;\n",
       "    }\n",
       "</style>\n",
       "<table border=\"1\" class=\"dataframe\">\n",
       "  <thead>\n",
       "    <tr style=\"text-align: right;\">\n",
       "      <th></th>\n",
       "      <th>food_item</th>\n",
       "      <th>calories</th>\n",
       "      <th>total_fat</th>\n",
       "      <th>protein</th>\n",
       "      <th>carbohydrate</th>\n",
       "    </tr>\n",
       "  </thead>\n",
       "  <tbody>\n",
       "    <tr>\n",
       "      <th>0</th>\n",
       "      <td>Cornstarch</td>\n",
       "      <td>381</td>\n",
       "      <td>0.1</td>\n",
       "      <td>0.26</td>\n",
       "      <td>91.27</td>\n",
       "    </tr>\n",
       "    <tr>\n",
       "      <th>1</th>\n",
       "      <td>Nuts, pecans</td>\n",
       "      <td>691</td>\n",
       "      <td>72.0</td>\n",
       "      <td>9.17</td>\n",
       "      <td>13.86</td>\n",
       "    </tr>\n",
       "    <tr>\n",
       "      <th>2</th>\n",
       "      <td>Eggplant, raw</td>\n",
       "      <td>25</td>\n",
       "      <td>0.2</td>\n",
       "      <td>0.98</td>\n",
       "      <td>5.88</td>\n",
       "    </tr>\n",
       "    <tr>\n",
       "      <th>3</th>\n",
       "      <td>Teff, uncooked</td>\n",
       "      <td>367</td>\n",
       "      <td>2.4</td>\n",
       "      <td>13.30</td>\n",
       "      <td>73.13</td>\n",
       "    </tr>\n",
       "    <tr>\n",
       "      <th>4</th>\n",
       "      <td>Sherbet, orange</td>\n",
       "      <td>144</td>\n",
       "      <td>2.0</td>\n",
       "      <td>1.10</td>\n",
       "      <td>30.40</td>\n",
       "    </tr>\n",
       "  </tbody>\n",
       "</table>\n",
       "</div>"
      ],
      "text/plain": [
       "         food_item  calories  total_fat  protein  carbohydrate\n",
       "0       Cornstarch       381        0.1     0.26         91.27\n",
       "1     Nuts, pecans       691       72.0     9.17         13.86\n",
       "2    Eggplant, raw        25        0.2     0.98          5.88\n",
       "3   Teff, uncooked       367        2.4    13.30         73.13\n",
       "4  Sherbet, orange       144        2.0     1.10         30.40"
      ]
     },
     "execution_count": 10,
     "metadata": {},
     "output_type": "execute_result"
    }
   ],
   "source": [
    "# Entire database has the serving size as 100g to provide a comparison with one less variable. \n",
    "# Will drop this column for now. \n",
    "df = df.drop(['serving_size'], axis = 1)\n",
    "df.head()"
   ]
  },
  {
   "cell_type": "code",
   "execution_count": 11,
   "metadata": {},
   "outputs": [
    {
     "data": {
      "text/html": [
       "<div>\n",
       "<style scoped>\n",
       "    .dataframe tbody tr th:only-of-type {\n",
       "        vertical-align: middle;\n",
       "    }\n",
       "\n",
       "    .dataframe tbody tr th {\n",
       "        vertical-align: top;\n",
       "    }\n",
       "\n",
       "    .dataframe thead th {\n",
       "        text-align: right;\n",
       "    }\n",
       "</style>\n",
       "<table border=\"1\" class=\"dataframe\">\n",
       "  <thead>\n",
       "    <tr style=\"text-align: right;\">\n",
       "      <th></th>\n",
       "      <th>count</th>\n",
       "      <th>mean</th>\n",
       "      <th>std</th>\n",
       "      <th>min</th>\n",
       "      <th>25%</th>\n",
       "      <th>50%</th>\n",
       "      <th>75%</th>\n",
       "      <th>max</th>\n",
       "    </tr>\n",
       "  </thead>\n",
       "  <tbody>\n",
       "    <tr>\n",
       "      <th>calories</th>\n",
       "      <td>8789.0</td>\n",
       "      <td>226.283878</td>\n",
       "      <td>169.862001</td>\n",
       "      <td>0.0</td>\n",
       "      <td>91.00</td>\n",
       "      <td>191.00</td>\n",
       "      <td>337.00</td>\n",
       "      <td>902.00</td>\n",
       "    </tr>\n",
       "    <tr>\n",
       "      <th>total_fat</th>\n",
       "      <td>8789.0</td>\n",
       "      <td>10.556855</td>\n",
       "      <td>15.818247</td>\n",
       "      <td>0.0</td>\n",
       "      <td>1.00</td>\n",
       "      <td>5.10</td>\n",
       "      <td>14.00</td>\n",
       "      <td>100.00</td>\n",
       "    </tr>\n",
       "    <tr>\n",
       "      <th>protein</th>\n",
       "      <td>8789.0</td>\n",
       "      <td>11.345616</td>\n",
       "      <td>10.530602</td>\n",
       "      <td>0.0</td>\n",
       "      <td>2.38</td>\n",
       "      <td>8.02</td>\n",
       "      <td>19.88</td>\n",
       "      <td>88.32</td>\n",
       "    </tr>\n",
       "    <tr>\n",
       "      <th>carbohydrate</th>\n",
       "      <td>8789.0</td>\n",
       "      <td>22.121915</td>\n",
       "      <td>27.266261</td>\n",
       "      <td>0.0</td>\n",
       "      <td>0.05</td>\n",
       "      <td>9.34</td>\n",
       "      <td>34.91</td>\n",
       "      <td>100.00</td>\n",
       "    </tr>\n",
       "  </tbody>\n",
       "</table>\n",
       "</div>"
      ],
      "text/plain": [
       "               count        mean         std  min    25%     50%     75%  \\\n",
       "calories      8789.0  226.283878  169.862001  0.0  91.00  191.00  337.00   \n",
       "total_fat     8789.0   10.556855   15.818247  0.0   1.00    5.10   14.00   \n",
       "protein       8789.0   11.345616   10.530602  0.0   2.38    8.02   19.88   \n",
       "carbohydrate  8789.0   22.121915   27.266261  0.0   0.05    9.34   34.91   \n",
       "\n",
       "                 max  \n",
       "calories      902.00  \n",
       "total_fat     100.00  \n",
       "protein        88.32  \n",
       "carbohydrate  100.00  "
      ]
     },
     "execution_count": 11,
     "metadata": {},
     "output_type": "execute_result"
    }
   ],
   "source": [
    "df.describe().T"
   ]
  },
  {
   "cell_type": "markdown",
   "metadata": {},
   "source": [
    "<b>Takeaways:</b>\n",
    "- No missing values\n",
    "- Carbohydrates have highest mean, std, and 50% and 75% numbers compared to other macros\n",
    "- That's why keto is so difficult because carbs are everywhere\n",
    "- Average calories for this food list is 226"
   ]
  },
  {
   "cell_type": "markdown",
   "metadata": {},
   "source": [
    "### Visualize"
   ]
  },
  {
   "cell_type": "code",
   "execution_count": 12,
   "metadata": {},
   "outputs": [
    {
     "data": {
      "image/png": "[encoded data removed]",
      "text/plain": [
       "<Figure size 1152x216 with 4 Axes>"
      ]
     },
     "metadata": {
      "needs_background": "light"
     },
     "output_type": "display_data"
    }
   ],
   "source": [
    "# Plot data to identify outliers and distributions\n",
    "plt.figure(figsize=(16, 3))\n",
    "for i, col in enumerate(['calories', 'total_fat', 'protein', 'carbohydrate']):  \n",
    "    plot_number = i + 1\n",
    "    series = df[col]  \n",
    "    plt.subplot(1,4, plot_number)\n",
    "    plt.title(col)\n",
    "    series.hist()"
   ]
  },
  {
   "cell_type": "code",
   "execution_count": 13,
   "metadata": {},
   "outputs": [
    {
     "data": {
      "image/png": "[encoded data removed]",
      "text/plain": [
       "<Figure size 576x288 with 1 Axes>"
      ]
     },
     "metadata": {
      "needs_background": "light"
     },
     "output_type": "display_data"
    }
   ],
   "source": [
    "# Dropped calories because we're only interested in macros\n",
    "plt.figure(figsize=(8,4))\n",
    "sns.boxplot(data=df.drop(columns=['food_item', 'calories']))\n",
    "plt.title('Macro Boxplot')\n",
    "plt.xlabel('Macros') \n",
    "plt.ylabel('Grams')\n",
    "plt.show() "
   ]
  },
  {
   "cell_type": "code",
   "execution_count": null,
   "metadata": {},
   "outputs": [],
   "source": [
    "# Drop outliers\n"
   ]
  },
  {
   "cell_type": "markdown",
   "metadata": {},
   "source": [
    "<b>Takeaways:</b>\n",
    "- All three macros have about the same or very similar average\n",
    "- Total fat has the most outliers ((~35)-100)\n",
    "- All three have a good number of outliers all on the high end\n",
    "- Carbs have a higher spread"
   ]
  },
  {
   "cell_type": "code",
   "execution_count": 14,
   "metadata": {},
   "outputs": [],
   "source": [
    "# Write a function to add to prepare.py file"
   ]
  },
  {
   "cell_type": "markdown",
   "metadata": {},
   "source": [
    "def wrangle_nutrition():\n",
    "    df = pd.read_csv(\"nutrition.csv\")\n",
    "    df.drop(columns='student_id', inplace=True)\n",
    "    df.replace(r'^\\s*$', np.nan, regex=True, inplace=True)\n",
    "    df = grades.dropna().astype('int')\n",
    "    return df"
   ]
  },
  {
   "cell_type": "markdown",
   "metadata": {},
   "source": [
    "### Train, Validate, Test"
   ]
  },
  {
   "cell_type": "code",
   "execution_count": 15,
   "metadata": {},
   "outputs": [],
   "source": [
    "# Train, Validate, Test\n",
    "train_and_validate, test = train_test_split(df, random_state=123)\n",
    "train, validate = train_test_split(train_and_validate, random_state=123)"
   ]
  },
  {
   "cell_type": "markdown",
   "metadata": {},
   "source": [
    "## Explore "
   ]
  },
  {
   "cell_type": "markdown",
   "metadata": {},
   "source": [
    "### Macro Comparisons"
   ]
  },
  {
   "cell_type": "code",
   "execution_count": 16,
   "metadata": {},
   "outputs": [
    {
     "data": {
      "image/png": "[encoded data removed]",
      "text/plain": [
       "<Figure size 360x360 with 3 Axes>"
      ]
     },
     "metadata": {},
     "output_type": "display_data"
    }
   ],
   "source": [
    "# Looking for foods that have high fat and low carbs\n",
    "with sns.axes_style('white'):\n",
    "    j = sns.jointplot(\"total_fat\", \"carbohydrate\", data=train, kind='reg', height=5);\n",
    "plt.show() "
   ]
  },
  {
   "cell_type": "code",
   "execution_count": 17,
   "metadata": {},
   "outputs": [
    {
     "data": {
      "text/plain": [
       "(0, 4)"
      ]
     },
     "execution_count": 17,
     "metadata": {},
     "output_type": "execute_result"
    },
    {
     "data": {
      "image/png": "[encoded data removed]",
      "text/plain": [
       "<Figure size 576x432 with 2 Axes>"
      ]
     },
     "metadata": {
      "needs_background": "light"
     },
     "output_type": "display_data"
    }
   ],
   "source": [
    "# Heatmap\n",
    "plt.figure(figsize=(8,6))\n",
    "sns.heatmap(train.corr(), cmap='Blues', annot=True)\n",
    "plt.ylim(0, 4)"
   ]
  },
  {
   "cell_type": "code",
   "execution_count": 18,
   "metadata": {},
   "outputs": [
    {
     "data": {
      "image/png": "[encoded data removed]",
      "text/plain": [
       "<Figure size 720x720 with 20 Axes>"
      ]
     },
     "metadata": {
      "needs_background": "light"
     },
     "output_type": "display_data"
    }
   ],
   "source": [
    "# Compare all with pairgrid\n",
    "g = sns.PairGrid(train)\n",
    "g.map_diag(plt.hist)\n",
    "g.map_offdiag(plt.scatter);"
   ]
  },
  {
   "cell_type": "code",
   "execution_count": 19,
   "metadata": {},
   "outputs": [
    {
     "data": {
      "image/png": "[encoded data removed]",
      "text/plain": [
       "<Figure size 766.075x432 with 1 Axes>"
      ]
     },
     "metadata": {
      "needs_background": "light"
     },
     "output_type": "display_data"
    }
   ],
   "source": [
    "# Comparing total fat vs. carbs \n",
    "sns.relplot(x=\"total_fat\", y=\"carbohydrate\", hue=\"calories\", data=train, height=6, aspect=1.6)\n",
    "plt.xlim(0, 175) \n",
    "plt.title('Fat vs. Carbs')\n",
    "plt.xlabel('Total Fat')\n",
    "plt.ylabel('Carbs')\n",
    "plt.show() "
   ]
  },
  {
   "cell_type": "code",
   "execution_count": 20,
   "metadata": {},
   "outputs": [
    {
     "data": {
      "image/png": "[encoded data removed]",
      "text/plain": [
       "<Figure size 766.075x432 with 1 Axes>"
      ]
     },
     "metadata": {
      "needs_background": "light"
     },
     "output_type": "display_data"
    }
   ],
   "source": [
    "# Comparing total fat vs. protein\n",
    "sns.relplot(x=\"total_fat\", y=\"protein\", hue=\"calories\", data=train, height=6, aspect=1.6)\n",
    "plt.xlim(0, 175)\n",
    "plt.title('Fat vs. Protein')\n",
    "plt.xlabel('Total Fat')\n",
    "plt.ylabel('Protein')\n",
    "plt.show() "
   ]
  },
  {
   "cell_type": "markdown",
   "metadata": {},
   "source": [
    "### What are the macro percentages for a food to be considered \"keto friendly\"?\n",
    "- <b>Fat:</b> 52 g per meal\n",
    "- <b>Protein:</b> 41.7 g per meal\n",
    "- <b>Carbs:</b> 8.3 g per meal"
   ]
  },
  {
   "cell_type": "markdown",
   "metadata": {},
   "source": [
    "#### After consulting with a nutritionist this is what I found to be considered \"keto friendly\":\n",
    "- Must be under 25g of carbs a day to be consider true ketosis.   \n",
    "\n",
    "\n",
    "- Not consuming enough fat or consuming too much protein will prevent you from getting into ketosis.     \n",
    "\n",
    "\n",
    "- Ketosis usually kicks in after 3 or 4 days of eating fewer than 50 grams, therefore being strict is crucial.          "
   ]
  },
  {
   "cell_type": "code",
   "execution_count": 38,
   "metadata": {},
   "outputs": [
    {
     "data": {
      "text/html": [
       "<div>\n",
       "<style scoped>\n",
       "    .dataframe tbody tr th:only-of-type {\n",
       "        vertical-align: middle;\n",
       "    }\n",
       "\n",
       "    .dataframe tbody tr th {\n",
       "        vertical-align: top;\n",
       "    }\n",
       "\n",
       "    .dataframe thead th {\n",
       "        text-align: right;\n",
       "    }\n",
       "</style>\n",
       "<table border=\"1\" class=\"dataframe\">\n",
       "  <thead>\n",
       "    <tr style=\"text-align: right;\">\n",
       "      <th></th>\n",
       "      <th>food_item</th>\n",
       "      <th>calories</th>\n",
       "      <th>total_fat</th>\n",
       "      <th>protein</th>\n",
       "      <th>carbohydrate</th>\n",
       "    </tr>\n",
       "  </thead>\n",
       "  <tbody>\n",
       "    <tr>\n",
       "      <th>2</th>\n",
       "      <td>Eggplant, raw</td>\n",
       "      <td>25</td>\n",
       "      <td>0.2</td>\n",
       "      <td>0.98</td>\n",
       "      <td>5.88</td>\n",
       "    </tr>\n",
       "    <tr>\n",
       "      <th>5</th>\n",
       "      <td>Cauliflower, raw</td>\n",
       "      <td>25</td>\n",
       "      <td>0.3</td>\n",
       "      <td>1.92</td>\n",
       "      <td>4.97</td>\n",
       "    </tr>\n",
       "    <tr>\n",
       "      <th>6</th>\n",
       "      <td>Taro leaves, raw</td>\n",
       "      <td>42</td>\n",
       "      <td>0.7</td>\n",
       "      <td>4.98</td>\n",
       "      <td>6.70</td>\n",
       "    </tr>\n",
       "    <tr>\n",
       "      <th>7</th>\n",
       "      <td>Lamb, raw, ground</td>\n",
       "      <td>282</td>\n",
       "      <td>23.0</td>\n",
       "      <td>16.56</td>\n",
       "      <td>0.00</td>\n",
       "    </tr>\n",
       "    <tr>\n",
       "      <th>8</th>\n",
       "      <td>Cheese, camembert</td>\n",
       "      <td>300</td>\n",
       "      <td>24.0</td>\n",
       "      <td>19.80</td>\n",
       "      <td>0.46</td>\n",
       "    </tr>\n",
       "  </tbody>\n",
       "</table>\n",
       "</div>"
      ],
      "text/plain": [
       "           food_item  calories  total_fat  protein  carbohydrate\n",
       "2      Eggplant, raw        25        0.2     0.98          5.88\n",
       "5   Cauliflower, raw        25        0.3     1.92          4.97\n",
       "6   Taro leaves, raw        42        0.7     4.98          6.70\n",
       "7  Lamb, raw, ground       282       23.0    16.56          0.00\n",
       "8  Cheese, camembert       300       24.0    19.80          0.46"
      ]
     },
     "execution_count": 38,
     "metadata": {},
     "output_type": "execute_result"
    }
   ],
   "source": [
    "# Low Carb Foods\n",
    "low_carb = df[(df.carbohydrate < 8.3)] \n",
    "low_carb.head()"
   ]
  },
  {
   "cell_type": "code",
   "execution_count": 40,
   "metadata": {},
   "outputs": [
    {
     "data": {
      "text/html": [
       "<div>\n",
       "<style scoped>\n",
       "    .dataframe tbody tr th:only-of-type {\n",
       "        vertical-align: middle;\n",
       "    }\n",
       "\n",
       "    .dataframe tbody tr th {\n",
       "        vertical-align: top;\n",
       "    }\n",
       "\n",
       "    .dataframe thead th {\n",
       "        text-align: right;\n",
       "    }\n",
       "</style>\n",
       "<table border=\"1\" class=\"dataframe\">\n",
       "  <thead>\n",
       "    <tr style=\"text-align: right;\">\n",
       "      <th></th>\n",
       "      <th>food_item</th>\n",
       "      <th>calories</th>\n",
       "      <th>total_fat</th>\n",
       "      <th>protein</th>\n",
       "      <th>carbohydrate</th>\n",
       "    </tr>\n",
       "  </thead>\n",
       "  <tbody>\n",
       "    <tr>\n",
       "      <th>7</th>\n",
       "      <td>Lamb, raw, ground</td>\n",
       "      <td>282</td>\n",
       "      <td>23.0</td>\n",
       "      <td>16.56</td>\n",
       "      <td>0.00</td>\n",
       "    </tr>\n",
       "    <tr>\n",
       "      <th>8</th>\n",
       "      <td>Cheese, camembert</td>\n",
       "      <td>300</td>\n",
       "      <td>24.0</td>\n",
       "      <td>19.80</td>\n",
       "      <td>0.46</td>\n",
       "    </tr>\n",
       "    <tr>\n",
       "      <th>9</th>\n",
       "      <td>Vegetarian fillets</td>\n",
       "      <td>290</td>\n",
       "      <td>18.0</td>\n",
       "      <td>23.00</td>\n",
       "      <td>9.00</td>\n",
       "    </tr>\n",
       "    <tr>\n",
       "      <th>14</th>\n",
       "      <td>Chicken, boiled, feet</td>\n",
       "      <td>215</td>\n",
       "      <td>15.0</td>\n",
       "      <td>19.40</td>\n",
       "      <td>0.20</td>\n",
       "    </tr>\n",
       "    <tr>\n",
       "      <th>16</th>\n",
       "      <td>Pie, lemon, fried pies</td>\n",
       "      <td>316</td>\n",
       "      <td>16.0</td>\n",
       "      <td>3.00</td>\n",
       "      <td>42.60</td>\n",
       "    </tr>\n",
       "  </tbody>\n",
       "</table>\n",
       "</div>"
      ],
      "text/plain": [
       "                 food_item  calories  total_fat  protein  carbohydrate\n",
       "7        Lamb, raw, ground       282       23.0    16.56          0.00\n",
       "8        Cheese, camembert       300       24.0    19.80          0.46\n",
       "9       Vegetarian fillets       290       18.0    23.00          9.00\n",
       "14   Chicken, boiled, feet       215       15.0    19.40          0.20\n",
       "16  Pie, lemon, fried pies       316       16.0     3.00         42.60"
      ]
     },
     "execution_count": 40,
     "metadata": {},
     "output_type": "execute_result"
    }
   ],
   "source": [
    "# High Fat Foods\n",
    "# Greater that 14g because of the 75% of foods with high fat are over that number\n",
    "high_fat = df[(df.total_fat > 14)&(df.total_fat < 52)] \n",
    "high_fat.head()"
   ]
  },
  {
   "cell_type": "code",
   "execution_count": 41,
   "metadata": {},
   "outputs": [
    {
     "data": {
      "text/html": [
       "<div>\n",
       "<style scoped>\n",
       "    .dataframe tbody tr th:only-of-type {\n",
       "        vertical-align: middle;\n",
       "    }\n",
       "\n",
       "    .dataframe tbody tr th {\n",
       "        vertical-align: top;\n",
       "    }\n",
       "\n",
       "    .dataframe thead th {\n",
       "        text-align: right;\n",
       "    }\n",
       "</style>\n",
       "<table border=\"1\" class=\"dataframe\">\n",
       "  <thead>\n",
       "    <tr style=\"text-align: right;\">\n",
       "      <th></th>\n",
       "      <th>food_item</th>\n",
       "      <th>calories</th>\n",
       "      <th>total_fat</th>\n",
       "      <th>protein</th>\n",
       "      <th>carbohydrate</th>\n",
       "    </tr>\n",
       "  </thead>\n",
       "  <tbody>\n",
       "    <tr>\n",
       "      <th>9</th>\n",
       "      <td>Vegetarian fillets</td>\n",
       "      <td>290</td>\n",
       "      <td>18.0</td>\n",
       "      <td>23.00</td>\n",
       "      <td>9.0</td>\n",
       "    </tr>\n",
       "    <tr>\n",
       "      <th>15</th>\n",
       "      <td>Quail, raw, meat only</td>\n",
       "      <td>134</td>\n",
       "      <td>4.5</td>\n",
       "      <td>21.76</td>\n",
       "      <td>0.0</td>\n",
       "    </tr>\n",
       "    <tr>\n",
       "      <th>27</th>\n",
       "      <td>Ostrich, raw, top loin</td>\n",
       "      <td>119</td>\n",
       "      <td>3.0</td>\n",
       "      <td>21.67</td>\n",
       "      <td>0.0</td>\n",
       "    </tr>\n",
       "    <tr>\n",
       "      <th>36</th>\n",
       "      <td>Emu, raw, outside drum</td>\n",
       "      <td>103</td>\n",
       "      <td>0.5</td>\n",
       "      <td>23.08</td>\n",
       "      <td>0.0</td>\n",
       "    </tr>\n",
       "    <tr>\n",
       "      <th>44</th>\n",
       "      <td>Fish, raw, sheepshead</td>\n",
       "      <td>108</td>\n",
       "      <td>2.4</td>\n",
       "      <td>20.21</td>\n",
       "      <td>0.0</td>\n",
       "    </tr>\n",
       "  </tbody>\n",
       "</table>\n",
       "</div>"
      ],
      "text/plain": [
       "                 food_item  calories  total_fat  protein  carbohydrate\n",
       "9       Vegetarian fillets       290       18.0    23.00           9.0\n",
       "15   Quail, raw, meat only       134        4.5    21.76           0.0\n",
       "27  Ostrich, raw, top loin       119        3.0    21.67           0.0\n",
       "36  Emu, raw, outside drum       103        0.5    23.08           0.0\n",
       "44   Fish, raw, sheepshead       108        2.4    20.21           0.0"
      ]
     },
     "execution_count": 41,
     "metadata": {},
     "output_type": "execute_result"
    }
   ],
   "source": [
    "# High Protein Foods\n",
    "# Greater that 19.99g because of the 75% of foods with high protein are over that number\n",
    "high_protein = df[(df.protein > 19.88)&(df.protein < 41.7)]\n",
    "high_protein.head() "
   ]
  },
  {
   "cell_type": "code",
   "execution_count": 42,
   "metadata": {},
   "outputs": [
    {
     "data": {
      "text/html": [
       "<div>\n",
       "<style scoped>\n",
       "    .dataframe tbody tr th:only-of-type {\n",
       "        vertical-align: middle;\n",
       "    }\n",
       "\n",
       "    .dataframe tbody tr th {\n",
       "        vertical-align: top;\n",
       "    }\n",
       "\n",
       "    .dataframe thead th {\n",
       "        text-align: right;\n",
       "    }\n",
       "</style>\n",
       "<table border=\"1\" class=\"dataframe\">\n",
       "  <thead>\n",
       "    <tr style=\"text-align: right;\">\n",
       "      <th></th>\n",
       "      <th>food_item</th>\n",
       "      <th>calories</th>\n",
       "      <th>total_fat</th>\n",
       "      <th>protein</th>\n",
       "      <th>carbohydrate</th>\n",
       "    </tr>\n",
       "  </thead>\n",
       "  <tbody>\n",
       "    <tr>\n",
       "      <th>1</th>\n",
       "      <td>Nuts, pecans</td>\n",
       "      <td>691</td>\n",
       "      <td>72.0</td>\n",
       "      <td>9.17</td>\n",
       "      <td>13.86</td>\n",
       "    </tr>\n",
       "    <tr>\n",
       "      <th>7</th>\n",
       "      <td>Lamb, raw, ground</td>\n",
       "      <td>282</td>\n",
       "      <td>23.0</td>\n",
       "      <td>16.56</td>\n",
       "      <td>0.00</td>\n",
       "    </tr>\n",
       "    <tr>\n",
       "      <th>8</th>\n",
       "      <td>Cheese, camembert</td>\n",
       "      <td>300</td>\n",
       "      <td>24.0</td>\n",
       "      <td>19.80</td>\n",
       "      <td>0.46</td>\n",
       "    </tr>\n",
       "    <tr>\n",
       "      <th>9</th>\n",
       "      <td>Vegetarian fillets</td>\n",
       "      <td>290</td>\n",
       "      <td>18.0</td>\n",
       "      <td>23.00</td>\n",
       "      <td>9.00</td>\n",
       "    </tr>\n",
       "    <tr>\n",
       "      <th>14</th>\n",
       "      <td>Chicken, boiled, feet</td>\n",
       "      <td>215</td>\n",
       "      <td>15.0</td>\n",
       "      <td>19.40</td>\n",
       "      <td>0.20</td>\n",
       "    </tr>\n",
       "  </tbody>\n",
       "</table>\n",
       "</div>"
      ],
      "text/plain": [
       "                food_item  calories  total_fat  protein  carbohydrate\n",
       "1            Nuts, pecans       691       72.0     9.17         13.86\n",
       "7       Lamb, raw, ground       282       23.0    16.56          0.00\n",
       "8       Cheese, camembert       300       24.0    19.80          0.46\n",
       "9      Vegetarian fillets       290       18.0    23.00          9.00\n",
       "14  Chicken, boiled, feet       215       15.0    19.40          0.20"
      ]
     },
     "execution_count": 42,
     "metadata": {},
     "output_type": "execute_result"
    }
   ],
   "source": [
    "# High Fat, Low Carb Foods\n",
    "hf_lc = df[(df.total_fat > 4)&(df.carbohydrate < 20)]\n",
    "hf_lc.head()  "
   ]
  },
  {
   "cell_type": "code",
   "execution_count": 25,
   "metadata": {},
   "outputs": [
    {
     "data": {
      "text/html": [
       "<div>\n",
       "<style scoped>\n",
       "    .dataframe tbody tr th:only-of-type {\n",
       "        vertical-align: middle;\n",
       "    }\n",
       "\n",
       "    .dataframe tbody tr th {\n",
       "        vertical-align: top;\n",
       "    }\n",
       "\n",
       "    .dataframe thead th {\n",
       "        text-align: right;\n",
       "    }\n",
       "</style>\n",
       "<table border=\"1\" class=\"dataframe\">\n",
       "  <thead>\n",
       "    <tr style=\"text-align: right;\">\n",
       "      <th></th>\n",
       "      <th>food_item</th>\n",
       "      <th>calories</th>\n",
       "      <th>total_fat</th>\n",
       "      <th>protein</th>\n",
       "      <th>carbohydrate</th>\n",
       "    </tr>\n",
       "  </thead>\n",
       "  <tbody>\n",
       "    <tr>\n",
       "      <th>7</th>\n",
       "      <td>Lamb, raw, ground</td>\n",
       "      <td>282</td>\n",
       "      <td>23.0</td>\n",
       "      <td>16.56</td>\n",
       "      <td>0.0</td>\n",
       "    </tr>\n",
       "    <tr>\n",
       "      <th>48</th>\n",
       "      <td>Butter oil, anhydrous</td>\n",
       "      <td>876</td>\n",
       "      <td>99.0</td>\n",
       "      <td>0.28</td>\n",
       "      <td>0.0</td>\n",
       "    </tr>\n",
       "    <tr>\n",
       "      <th>67</th>\n",
       "      <td>Oil, soybean lecithin</td>\n",
       "      <td>763</td>\n",
       "      <td>100.0</td>\n",
       "      <td>0.00</td>\n",
       "      <td>0.0</td>\n",
       "    </tr>\n",
       "    <tr>\n",
       "      <th>192</th>\n",
       "      <td>Oil, corn and canola</td>\n",
       "      <td>884</td>\n",
       "      <td>100.0</td>\n",
       "      <td>0.00</td>\n",
       "      <td>0.0</td>\n",
       "    </tr>\n",
       "    <tr>\n",
       "      <th>212</th>\n",
       "      <td>Oil, ucuhuba butter</td>\n",
       "      <td>884</td>\n",
       "      <td>100.0</td>\n",
       "      <td>0.00</td>\n",
       "      <td>0.0</td>\n",
       "    </tr>\n",
       "  </tbody>\n",
       "</table>\n",
       "</div>"
      ],
      "text/plain": [
       "                 food_item  calories  total_fat  protein  carbohydrate\n",
       "7        Lamb, raw, ground       282       23.0    16.56           0.0\n",
       "48   Butter oil, anhydrous       876       99.0     0.28           0.0\n",
       "67   Oil, soybean lecithin       763      100.0     0.00           0.0\n",
       "192   Oil, corn and canola       884      100.0     0.00           0.0\n",
       "212    Oil, ucuhuba butter       884      100.0     0.00           0.0"
      ]
     },
     "execution_count": 25,
     "metadata": {},
     "output_type": "execute_result"
    }
   ],
   "source": [
    "# High Fat, Zero Carb Foods\n",
    "# This ends up including a lot of oils, we're looking for more substantial foods\n",
    "zero_carbs = df[(df.total_fat > 15)&(df.carbohydrate == 0)]\n",
    "zero_carbs.head() "
   ]
  },
  {
   "cell_type": "code",
   "execution_count": 44,
   "metadata": {},
   "outputs": [
    {
     "data": {
      "text/html": [
       "<div>\n",
       "<style scoped>\n",
       "    .dataframe tbody tr th:only-of-type {\n",
       "        vertical-align: middle;\n",
       "    }\n",
       "\n",
       "    .dataframe tbody tr th {\n",
       "        vertical-align: top;\n",
       "    }\n",
       "\n",
       "    .dataframe thead th {\n",
       "        text-align: right;\n",
       "    }\n",
       "</style>\n",
       "<table border=\"1\" class=\"dataframe\">\n",
       "  <thead>\n",
       "    <tr style=\"text-align: right;\">\n",
       "      <th></th>\n",
       "      <th>count</th>\n",
       "      <th>mean</th>\n",
       "      <th>std</th>\n",
       "      <th>min</th>\n",
       "      <th>25%</th>\n",
       "      <th>50%</th>\n",
       "      <th>75%</th>\n",
       "      <th>max</th>\n",
       "    </tr>\n",
       "  </thead>\n",
       "  <tbody>\n",
       "    <tr>\n",
       "      <th>calories</th>\n",
       "      <td>135.0</td>\n",
       "      <td>854.162963</td>\n",
       "      <td>79.038835</td>\n",
       "      <td>626.0</td>\n",
       "      <td>884.0</td>\n",
       "      <td>884.0</td>\n",
       "      <td>884.0</td>\n",
       "      <td>902.00</td>\n",
       "    </tr>\n",
       "    <tr>\n",
       "      <th>total_fat</th>\n",
       "      <td>135.0</td>\n",
       "      <td>95.681481</td>\n",
       "      <td>10.225555</td>\n",
       "      <td>66.0</td>\n",
       "      <td>100.0</td>\n",
       "      <td>100.0</td>\n",
       "      <td>100.0</td>\n",
       "      <td>100.00</td>\n",
       "    </tr>\n",
       "    <tr>\n",
       "      <th>protein</th>\n",
       "      <td>135.0</td>\n",
       "      <td>0.979926</td>\n",
       "      <td>2.468808</td>\n",
       "      <td>0.0</td>\n",
       "      <td>0.0</td>\n",
       "      <td>0.0</td>\n",
       "      <td>0.0</td>\n",
       "      <td>10.65</td>\n",
       "    </tr>\n",
       "    <tr>\n",
       "      <th>carbohydrate</th>\n",
       "      <td>135.0</td>\n",
       "      <td>0.000000</td>\n",
       "      <td>0.000000</td>\n",
       "      <td>0.0</td>\n",
       "      <td>0.0</td>\n",
       "      <td>0.0</td>\n",
       "      <td>0.0</td>\n",
       "      <td>0.00</td>\n",
       "    </tr>\n",
       "  </tbody>\n",
       "</table>\n",
       "</div>"
      ],
      "text/plain": [
       "              count        mean        std    min    25%    50%    75%     max\n",
       "calories      135.0  854.162963  79.038835  626.0  884.0  884.0  884.0  902.00\n",
       "total_fat     135.0   95.681481  10.225555   66.0  100.0  100.0  100.0  100.00\n",
       "protein       135.0    0.979926   2.468808    0.0    0.0    0.0    0.0   10.65\n",
       "carbohydrate  135.0    0.000000   0.000000    0.0    0.0    0.0    0.0    0.00"
      ]
     },
     "execution_count": 44,
     "metadata": {},
     "output_type": "execute_result"
    }
   ],
   "source": [
    "zero_carbs.describe().T"
   ]
  },
  {
   "cell_type": "code",
   "execution_count": 45,
   "metadata": {},
   "outputs": [
    {
     "data": {
      "text/html": [
       "<div>\n",
       "<style scoped>\n",
       "    .dataframe tbody tr th:only-of-type {\n",
       "        vertical-align: middle;\n",
       "    }\n",
       "\n",
       "    .dataframe tbody tr th {\n",
       "        vertical-align: top;\n",
       "    }\n",
       "\n",
       "    .dataframe thead th {\n",
       "        text-align: right;\n",
       "    }\n",
       "</style>\n",
       "<table border=\"1\" class=\"dataframe\">\n",
       "  <thead>\n",
       "    <tr style=\"text-align: right;\">\n",
       "      <th></th>\n",
       "      <th>food_item</th>\n",
       "      <th>calories</th>\n",
       "      <th>total_fat</th>\n",
       "      <th>protein</th>\n",
       "      <th>carbohydrate</th>\n",
       "    </tr>\n",
       "  </thead>\n",
       "  <tbody>\n",
       "    <tr>\n",
       "      <th>48</th>\n",
       "      <td>Butter oil, anhydrous</td>\n",
       "      <td>876</td>\n",
       "      <td>99.0</td>\n",
       "      <td>0.28</td>\n",
       "      <td>0.0</td>\n",
       "    </tr>\n",
       "    <tr>\n",
       "      <th>67</th>\n",
       "      <td>Oil, soybean lecithin</td>\n",
       "      <td>763</td>\n",
       "      <td>100.0</td>\n",
       "      <td>0.00</td>\n",
       "      <td>0.0</td>\n",
       "    </tr>\n",
       "    <tr>\n",
       "      <th>192</th>\n",
       "      <td>Oil, corn and canola</td>\n",
       "      <td>884</td>\n",
       "      <td>100.0</td>\n",
       "      <td>0.00</td>\n",
       "      <td>0.0</td>\n",
       "    </tr>\n",
       "    <tr>\n",
       "      <th>212</th>\n",
       "      <td>Oil, ucuhuba butter</td>\n",
       "      <td>884</td>\n",
       "      <td>100.0</td>\n",
       "      <td>0.00</td>\n",
       "      <td>0.0</td>\n",
       "    </tr>\n",
       "    <tr>\n",
       "      <th>223</th>\n",
       "      <td>Oil, apricot kernel</td>\n",
       "      <td>884</td>\n",
       "      <td>100.0</td>\n",
       "      <td>0.00</td>\n",
       "      <td>0.0</td>\n",
       "    </tr>\n",
       "  </tbody>\n",
       "</table>\n",
       "</div>"
      ],
      "text/plain": [
       "                 food_item  calories  total_fat  protein  carbohydrate\n",
       "48   Butter oil, anhydrous       876       99.0     0.28           0.0\n",
       "67   Oil, soybean lecithin       763      100.0     0.00           0.0\n",
       "192   Oil, corn and canola       884      100.0     0.00           0.0\n",
       "212    Oil, ucuhuba butter       884      100.0     0.00           0.0\n",
       "223    Oil, apricot kernel       884      100.0     0.00           0.0"
      ]
     },
     "execution_count": 45,
     "metadata": {},
     "output_type": "execute_result"
    }
   ],
   "source": [
    "# So it looks like food items with > 66 are mostly oils and butters\n",
    "zero_carbs = df[(df.total_fat > 66)&(df.carbohydrate == 0)]\n",
    "zero_carbs.head()  "
   ]
  },
  {
   "cell_type": "code",
   "execution_count": 28,
   "metadata": {},
   "outputs": [
    {
     "data": {
      "text/html": [
       "<div>\n",
       "<style scoped>\n",
       "    .dataframe tbody tr th:only-of-type {\n",
       "        vertical-align: middle;\n",
       "    }\n",
       "\n",
       "    .dataframe tbody tr th {\n",
       "        vertical-align: top;\n",
       "    }\n",
       "\n",
       "    .dataframe thead th {\n",
       "        text-align: right;\n",
       "    }\n",
       "</style>\n",
       "<table border=\"1\" class=\"dataframe\">\n",
       "  <thead>\n",
       "    <tr style=\"text-align: right;\">\n",
       "      <th></th>\n",
       "      <th>food_item</th>\n",
       "      <th>calories</th>\n",
       "      <th>total_fat</th>\n",
       "      <th>protein</th>\n",
       "      <th>carbohydrate</th>\n",
       "    </tr>\n",
       "  </thead>\n",
       "  <tbody>\n",
       "    <tr>\n",
       "      <th>7</th>\n",
       "      <td>Lamb, raw, ground</td>\n",
       "      <td>282</td>\n",
       "      <td>23.0</td>\n",
       "      <td>16.56</td>\n",
       "      <td>0.0</td>\n",
       "    </tr>\n",
       "    <tr>\n",
       "      <th>694</th>\n",
       "      <td>Smelt, dried (Alaska Native)</td>\n",
       "      <td>386</td>\n",
       "      <td>18.0</td>\n",
       "      <td>56.19</td>\n",
       "      <td>0.0</td>\n",
       "    </tr>\n",
       "    <tr>\n",
       "      <th>695</th>\n",
       "      <td>Lamb, broiled, cooked, ground</td>\n",
       "      <td>283</td>\n",
       "      <td>20.0</td>\n",
       "      <td>24.75</td>\n",
       "      <td>0.0</td>\n",
       "    </tr>\n",
       "    <tr>\n",
       "      <th>809</th>\n",
       "      <td>USDA Commodity, canned, beef</td>\n",
       "      <td>246</td>\n",
       "      <td>18.0</td>\n",
       "      <td>20.52</td>\n",
       "      <td>0.0</td>\n",
       "    </tr>\n",
       "    <tr>\n",
       "      <th>950</th>\n",
       "      <td>Pork, cooked, ground, fresh</td>\n",
       "      <td>297</td>\n",
       "      <td>21.0</td>\n",
       "      <td>25.69</td>\n",
       "      <td>0.0</td>\n",
       "    </tr>\n",
       "  </tbody>\n",
       "</table>\n",
       "</div>"
      ],
      "text/plain": [
       "                         food_item  calories  total_fat  protein  carbohydrate\n",
       "7                Lamb, raw, ground       282       23.0    16.56           0.0\n",
       "694   Smelt, dried (Alaska Native)       386       18.0    56.19           0.0\n",
       "695  Lamb, broiled, cooked, ground       283       20.0    24.75           0.0\n",
       "809   USDA Commodity, canned, beef       246       18.0    20.52           0.0\n",
       "950    Pork, cooked, ground, fresh       297       21.0    25.69           0.0"
      ]
     },
     "execution_count": 28,
     "metadata": {},
     "output_type": "execute_result"
    }
   ],
   "source": [
    "# High Fat, Zero Carb Foods\n",
    "#Looks like this might just be meats only\n",
    "zero_carbs_high_fat = df[(df.total_fat > 15)&(df.total_fat <50)&(df.carbohydrate == 0)]\n",
    "zero_carbs_high_fat.head() "
   ]
  },
  {
   "cell_type": "markdown",
   "metadata": {},
   "source": [
    "### The \"Ideal\""
   ]
  },
  {
   "cell_type": "code",
   "execution_count": 63,
   "metadata": {},
   "outputs": [
    {
     "data": {
      "text/html": [
       "<div>\n",
       "<style scoped>\n",
       "    .dataframe tbody tr th:only-of-type {\n",
       "        vertical-align: middle;\n",
       "    }\n",
       "\n",
       "    .dataframe tbody tr th {\n",
       "        vertical-align: top;\n",
       "    }\n",
       "\n",
       "    .dataframe thead th {\n",
       "        text-align: right;\n",
       "    }\n",
       "</style>\n",
       "<table border=\"1\" class=\"dataframe\">\n",
       "  <thead>\n",
       "    <tr style=\"text-align: right;\">\n",
       "      <th></th>\n",
       "      <th>food_item</th>\n",
       "      <th>calories</th>\n",
       "      <th>total_fat</th>\n",
       "      <th>protein</th>\n",
       "      <th>carbohydrate</th>\n",
       "    </tr>\n",
       "  </thead>\n",
       "  <tbody>\n",
       "    <tr>\n",
       "      <th>7</th>\n",
       "      <td>Lamb, raw, ground</td>\n",
       "      <td>282</td>\n",
       "      <td>23.0</td>\n",
       "      <td>16.56</td>\n",
       "      <td>0.00</td>\n",
       "    </tr>\n",
       "    <tr>\n",
       "      <th>8</th>\n",
       "      <td>Cheese, camembert</td>\n",
       "      <td>300</td>\n",
       "      <td>24.0</td>\n",
       "      <td>19.80</td>\n",
       "      <td>0.46</td>\n",
       "    </tr>\n",
       "    <tr>\n",
       "      <th>14</th>\n",
       "      <td>Chicken, boiled, feet</td>\n",
       "      <td>215</td>\n",
       "      <td>15.0</td>\n",
       "      <td>19.40</td>\n",
       "      <td>0.20</td>\n",
       "    </tr>\n",
       "    <tr>\n",
       "      <th>68</th>\n",
       "      <td>Egg, fresh, raw, yolk</td>\n",
       "      <td>322</td>\n",
       "      <td>27.0</td>\n",
       "      <td>15.86</td>\n",
       "      <td>3.59</td>\n",
       "    </tr>\n",
       "    <tr>\n",
       "      <th>84</th>\n",
       "      <td>Cheese, port de salut</td>\n",
       "      <td>352</td>\n",
       "      <td>28.0</td>\n",
       "      <td>23.78</td>\n",
       "      <td>0.57</td>\n",
       "    </tr>\n",
       "  </tbody>\n",
       "</table>\n",
       "</div>"
      ],
      "text/plain": [
       "                food_item  calories  total_fat  protein  carbohydrate\n",
       "7       Lamb, raw, ground       282       23.0    16.56          0.00\n",
       "8       Cheese, camembert       300       24.0    19.80          0.46\n",
       "14  Chicken, boiled, feet       215       15.0    19.40          0.20\n",
       "68  Egg, fresh, raw, yolk       322       27.0    15.86          3.59\n",
       "84  Cheese, port de salut       352       28.0    23.78          0.57"
      ]
     },
     "execution_count": 63,
     "metadata": {},
     "output_type": "execute_result"
    }
   ],
   "source": [
    "# High Fat, Low Carb, Moderate Protein Foods \n",
    "# The \"ideal\" macros for a Keto Diet for a 2,000 kcal per day diet\n",
    "hf_lc_hp = df[(df.total_fat > 14)&(df.total_fat < 52)&(df.carbohydrate < 8.3)&(df.protein > 8.02)&(df.protein < 41.7)]\n",
    "hf_lc_hp.head() "
   ]
  },
  {
   "cell_type": "code",
   "execution_count": 61,
   "metadata": {},
   "outputs": [
    {
     "data": {
      "text/plain": [
       "(745, 5)"
      ]
     },
     "execution_count": 61,
     "metadata": {},
     "output_type": "execute_result"
    }
   ],
   "source": [
    "# Out of a nutritional database with a total of 8789 food items, 745 items are \"Keto Friendly\"\n",
    "hf_lc_hp.shape"
   ]
  },
  {
   "cell_type": "markdown",
   "metadata": {},
   "source": [
    "### Food Comparisons "
   ]
  },
  {
   "cell_type": "code",
   "execution_count": null,
   "metadata": {},
   "outputs": [],
   "source": []
  },
  {
   "cell_type": "code",
   "execution_count": null,
   "metadata": {},
   "outputs": [],
   "source": [
    "train.protein.value_counts().sort_index().plot.bar()\n",
    "protein_rate = train.protein.mean()\n",
    "plt.title(f\"Overall survival rate: {protein:.2%}\")\n",
    "plt.xlabel('Survived')"
   ]
  },
  {
   "cell_type": "code",
   "execution_count": 68,
   "metadata": {},
   "outputs": [
    {
     "data": {
      "text/plain": [
       "25.25    1\n",
       "23.50    1\n",
       "20.50    1\n",
       "10.28    1\n",
       "14.05    1\n",
       "Name: protein, dtype: int64"
      ]
     },
     "execution_count": 68,
     "metadata": {},
     "output_type": "execute_result"
    }
   ],
   "source": [
    "train.protein.value_counts().tail()"
   ]
  },
  {
   "cell_type": "code",
   "execution_count": null,
   "metadata": {},
   "outputs": [],
   "source": []
  },
  {
   "cell_type": "code",
   "execution_count": null,
   "metadata": {},
   "outputs": [],
   "source": []
  },
  {
   "cell_type": "code",
   "execution_count": null,
   "metadata": {},
   "outputs": [],
   "source": []
  },
  {
   "cell_type": "markdown",
   "metadata": {},
   "source": [
    "### Feature Engineering"
   ]
  },
  {
   "cell_type": "markdown",
   "metadata": {},
   "source": [
    "### Hypothesis Testing"
   ]
  },
  {
   "cell_type": "code",
   "execution_count": null,
   "metadata": {},
   "outputs": [],
   "source": []
  },
  {
   "cell_type": "markdown",
   "metadata": {},
   "source": [
    "## Classfication Models\n",
    "- Logistic Regression\n",
    "- Decision Tree\n",
    "- Random Forest\n",
    "- KNN"
   ]
  },
  {
   "cell_type": "markdown",
   "metadata": {},
   "source": [
    "### Baseline "
   ]
  },
  {
   "cell_type": "code",
   "execution_count": 30,
   "metadata": {},
   "outputs": [
    {
     "data": {
      "text/html": [
       "<div>\n",
       "<style scoped>\n",
       "    .dataframe tbody tr th:only-of-type {\n",
       "        vertical-align: middle;\n",
       "    }\n",
       "\n",
       "    .dataframe tbody tr th {\n",
       "        vertical-align: top;\n",
       "    }\n",
       "\n",
       "    .dataframe thead th {\n",
       "        text-align: right;\n",
       "    }\n",
       "</style>\n",
       "<table border=\"1\" class=\"dataframe\">\n",
       "  <thead>\n",
       "    <tr style=\"text-align: right;\">\n",
       "      <th></th>\n",
       "      <th>food_item</th>\n",
       "      <th>calories</th>\n",
       "      <th>total_fat</th>\n",
       "      <th>protein</th>\n",
       "      <th>carbohydrate</th>\n",
       "      <th>yhat_baseline</th>\n",
       "    </tr>\n",
       "  </thead>\n",
       "  <tbody>\n",
       "    <tr>\n",
       "      <th>0</th>\n",
       "      <td>Cornstarch</td>\n",
       "      <td>381</td>\n",
       "      <td>0.1</td>\n",
       "      <td>0.26</td>\n",
       "      <td>91.27</td>\n",
       "      <td>10.556855</td>\n",
       "    </tr>\n",
       "    <tr>\n",
       "      <th>1</th>\n",
       "      <td>Nuts, pecans</td>\n",
       "      <td>691</td>\n",
       "      <td>72.0</td>\n",
       "      <td>9.17</td>\n",
       "      <td>13.86</td>\n",
       "      <td>10.556855</td>\n",
       "    </tr>\n",
       "    <tr>\n",
       "      <th>2</th>\n",
       "      <td>Eggplant, raw</td>\n",
       "      <td>25</td>\n",
       "      <td>0.2</td>\n",
       "      <td>0.98</td>\n",
       "      <td>5.88</td>\n",
       "      <td>10.556855</td>\n",
       "    </tr>\n",
       "  </tbody>\n",
       "</table>\n",
       "</div>"
      ],
      "text/plain": [
       "       food_item  calories  total_fat  protein  carbohydrate  yhat_baseline\n",
       "0     Cornstarch       381        0.1     0.26         91.27      10.556855\n",
       "1   Nuts, pecans       691       72.0     9.17         13.86      10.556855\n",
       "2  Eggplant, raw        25        0.2     0.98          5.88      10.556855"
      ]
     },
     "execution_count": 30,
     "metadata": {},
     "output_type": "execute_result"
    }
   ],
   "source": [
    "# Baseline (if food is ## < on carbs and ## > on fat) that could be baseline..\n",
    "df['yhat_baseline'] = df['total_fat'].mean()\n",
    "df.head(3)"
   ]
  },
  {
   "cell_type": "markdown",
   "metadata": {},
   "source": [
    "### Logistic Regression"
   ]
  },
  {
   "cell_type": "code",
   "execution_count": null,
   "metadata": {},
   "outputs": [],
   "source": []
  },
  {
   "cell_type": "markdown",
   "metadata": {},
   "source": [
    "### Decision Tree"
   ]
  },
  {
   "cell_type": "code",
   "execution_count": null,
   "metadata": {},
   "outputs": [],
   "source": []
  },
  {
   "cell_type": "markdown",
   "metadata": {},
   "source": [
    "### Random Forest"
   ]
  },
  {
   "cell_type": "code",
   "execution_count": null,
   "metadata": {},
   "outputs": [],
   "source": []
  },
  {
   "cell_type": "markdown",
   "metadata": {},
   "source": [
    "### KNN"
   ]
  },
  {
   "cell_type": "code",
   "execution_count": null,
   "metadata": {},
   "outputs": [],
   "source": []
  },
  {
   "cell_type": "markdown",
   "metadata": {},
   "source": [
    "## Conclusions/Takeaways"
   ]
  },
  {
   "cell_type": "markdown",
   "metadata": {},
   "source": [
    "- What was best model?\n",
    "- How did the findings compare with what is known?"
   ]
  },
  {
   "cell_type": "markdown",
   "metadata": {},
   "source": [
    "## Future Investigations"
   ]
  },
  {
   "cell_type": "markdown",
   "metadata": {},
   "source": [
    "- Can other food items be classified under certain diets (vegan, vegetarian, low-carb, etc) using similar methods?  \n",
    "\n",
    "\n",
    "- Could this system be used on an food tracking app to give users suggestions on what food they should be buying depending on what diet they are on? This could take out a lot of the guessing and research that comes with being on a diet and really simplify things for the user."
   ]
  },
  {
   "cell_type": "markdown",
   "metadata": {},
   "source": [
    "## Resources:\n",
    "\n",
    "- https://www.ncbi.nlm.nih.gov/books/NBK499830/\n",
    "- https://www.hsph.harvard.edu/nutritionsource/healthy-weight/diet-reviews/ketogenic-diet/\n",
    "- https://www.dietdoctor.com/low-carb/keto/foods\n",
    "- https://www.nateliason.com/blog/easy-keto\n",
    "- The \"Lose It!\" app"
   ]
  }
 ],
 "metadata": {
  "kernelspec": {
   "display_name": "Python 3",
   "language": "python",
   "name": "python3"
  },
  "language_info": {
   "codemirror_mode": {
    "name": "ipython",
    "version": 3
   },
   "file_extension": ".py",
   "mimetype": "text/x-python",
   "name": "python",
   "nbconvert_exporter": "python",
   "pygments_lexer": "ipython3",
   "version": "3.7.6"
  }
 },
 "nbformat": 4,
 "nbformat_minor": 4
}
